{
  "nbformat": 4,
  "nbformat_minor": 0,
  "metadata": {
    "colab": {
      "provenance": [],
      "mount_file_id": "1c41-DVCBPm941vx7_N8XCFhSkkKIx2eg",
      "authorship_tag": "ABX9TyNEV2YNnSQRREtAqOBiTQRc"
    },
    "kernelspec": {
      "name": "python3",
      "display_name": "Python 3"
    },
    "language_info": {
      "name": "python"
    }
  },
  "cells": [
    {
      "cell_type": "code",
      "execution_count": 1,
      "metadata": {
        "id": "bXtpEfuNp7yJ"
      },
      "outputs": [],
      "source": [
        "import os\n",
        "import numpy as np\n",
        "import pandas as pd\n",
        "import torch\n",
        "import torchvision\n",
        "from torch.utils.data import DataLoader\n",
        "import torchvision.transforms as transforms\n",
        "import torchvision.datasets as datasets\n",
        "# from PIL import Image\n",
        "# import xml.etree.ElementTree as ET"
      ]
    },
    {
      "cell_type": "code",
      "source": [
        "#For model\n",
        "import torch.nn as nn\n",
        "import torch.nn.functional as F\n",
        "import torch.optim as optim"
      ],
      "metadata": {
        "id": "6aemNoYmtSTF"
      },
      "execution_count": 2,
      "outputs": []
    },
    {
      "cell_type": "code",
      "source": [
        "#For shwing images and graphs\n",
        "from matplotlib import pyplot as plt\n",
        "\n",
        "from sklearn.metrics import confusion_matrix, multilabel_confusion_matrix\n",
        "from sklearn.metrics import accuracy_score, precision_score, recall_score, f1_score"
      ],
      "metadata": {
        "id": "teL8n6Z9tUya"
      },
      "execution_count": 3,
      "outputs": []
    },
    {
      "cell_type": "code",
      "source": [
        "from google.colab import drive\n",
        "drive.mount('/content/drive')"
      ],
      "metadata": {
        "colab": {
          "base_uri": "https://localhost:8080/"
        },
        "id": "pPA7XjizvkPB",
        "outputId": "c16badd0-089c-4059-e4ba-39bcf5765620"
      },
      "execution_count": 9,
      "outputs": [
        {
          "output_type": "stream",
          "name": "stdout",
          "text": [
            "Drive already mounted at /content/drive; to attempt to forcibly remount, call drive.mount(\"/content/drive\", force_remount=True).\n"
          ]
        }
      ]
    },
    {
      "cell_type": "code",
      "source": [
        "classes = ('mask_worn_incorrectly', 'with_mask', 'without_mask')"
      ],
      "metadata": {
        "id": "_RiM3YLjtW8B"
      },
      "execution_count": 10,
      "outputs": []
    },
    {
      "cell_type": "code",
      "source": [
        "imagePath = '/content/drive/MyDrive/Colab Notebooks/257-01/Classes'\n",
        "transform = transforms.Compose([transforms.Resize((128,128)), transforms.ToTensor()])#Just resizing the image to 128*128 size\n",
        "data = datasets.ImageFolder(root=imagePath, transform=transform)\n",
        "loader = DataLoader(dataset=data,batch_size=32)"
      ],
      "metadata": {
        "id": "gdcKSRobtbwV"
      },
      "execution_count": 11,
      "outputs": []
    },
    {
      "cell_type": "markdown",
      "source": [
        "# New Section"
      ],
      "metadata": {
        "id": "QQmsavqvtt2U"
      }
    },
    {
      "cell_type": "code",
      "source": [],
      "metadata": {
        "id": "h9M3KPNEteX9"
      },
      "execution_count": 5,
      "outputs": []
    }
  ]
}