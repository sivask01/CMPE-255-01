{
  "nbformat": 4,
  "nbformat_minor": 0,
  "metadata": {
    "colab": {
      "provenance": [],
      "mount_file_id": "1c41-DVCBPm941vx7_N8XCFhSkkKIx2eg",
      "authorship_tag": "ABX9TyMM6nicdWAnFRyQTMgCSnmq",
      "include_colab_link": true
    },
    "kernelspec": {
      "name": "python3",
      "display_name": "Python 3"
    },
    "language_info": {
      "name": "python"
    }
  },
  "cells": [
    {
      "cell_type": "markdown",
      "metadata": {
        "id": "view-in-github",
        "colab_type": "text"
      },
      "source": [
        "<a href=\"https://colab.research.google.com/github/sivask01/CMPE-255-01/blob/main/face_mask_classifier.ipynb\" target=\"_parent\"><img src=\"https://colab.research.google.com/assets/colab-badge.svg\" alt=\"Open In Colab\"/></a>"
      ]
    },
    {
      "cell_type": "code",
      "execution_count": null,
      "metadata": {
        "id": "bXtpEfuNp7yJ"
      },
      "outputs": [],
      "source": [
        "import os\n",
        "import numpy as np\n",
        "import pandas as pd\n",
        "import torch\n",
        "import torchvision\n",
        "from torch.utils.data import DataLoader\n",
        "import torchvision.transforms as transforms\n",
        "import torchvision.datasets as datasets\n",
        "# from PIL import Image\n",
        "# import xml.etree.ElementTree as ET"
      ]
    },
    {
      "cell_type": "code",
      "source": [
        "#For model\n",
        "import torch.nn as nn\n",
        "import torch.nn.functional as F\n",
        "import torch.optim as optim"
      ],
      "metadata": {
        "id": "6aemNoYmtSTF"
      },
      "execution_count": null,
      "outputs": []
    },
    {
      "cell_type": "code",
      "source": [
        "#For shwing images and graphs\n",
        "from matplotlib import pyplot as plt\n",
        "\n",
        "from sklearn.metrics import confusion_matrix, multilabel_confusion_matrix\n",
        "from sklearn.metrics import accuracy_score, precision_score, recall_score, f1_score"
      ],
      "metadata": {
        "id": "teL8n6Z9tUya"
      },
      "execution_count": null,
      "outputs": []
    },
    {
      "cell_type": "code",
      "source": [
        "from google.colab import drive\n",
        "drive.mount('/content/drive')"
      ],
      "metadata": {
        "id": "pPA7XjizvkPB",
        "outputId": "136e8dea-47e1-4a06-98c6-1b93ca523ee4",
        "colab": {
          "base_uri": "https://localhost:8080/"
        }
      },
      "execution_count": 1,
      "outputs": [
        {
          "output_type": "stream",
          "name": "stdout",
          "text": [
            "Drive already mounted at /content/drive; to attempt to forcibly remount, call drive.mount(\"/content/drive\", force_remount=True).\n"
          ]
        }
      ]
    },
    {
      "cell_type": "code",
      "source": [
        "extracted_folder_path = '/content/drive/MyDrive/Colab Notebooks/255_Project/'\n",
        "extracted_folder_path"
      ],
      "metadata": {
        "id": "gdcKSRobtbwV",
        "colab": {
          "base_uri": "https://localhost:8080/",
          "height": 35
        },
        "outputId": "330e1471-23f7-4624-c187-62973f641f35"
      },
      "execution_count": 10,
      "outputs": [
        {
          "output_type": "execute_result",
          "data": {
            "text/plain": [
              "'/content/drive/MyDrive/Colab Notebooks/255_Project/'"
            ],
            "application/vnd.google.colaboratory.intrinsic+json": {
              "type": "string"
            }
          },
          "metadata": {},
          "execution_count": 10
        }
      ]
    },
    {
      "cell_type": "markdown",
      "source": [
        "#**Parellel Processing**"
      ],
      "metadata": {
        "id": "7h-lbk8acOZM"
      }
    },
    {
      "cell_type": "code",
      "source": [
        "# # Example of using MirroredStrategy for multi-GPU training\n",
        "# import tensorflow as tf\n",
        "\n",
        "# strategy = tf.distribute.MirroredStrategy()\n",
        "# with strategy.scope():\n",
        "#     # Reinitialize and compile your model here\n"
      ],
      "metadata": {
        "id": "kqcSrrr0cTkv"
      },
      "execution_count": 24,
      "outputs": []
    },
    {
      "cell_type": "markdown",
      "source": [
        "#**DATA LOADING**"
      ],
      "metadata": {
        "id": "L_gR6NEBW1V5"
      }
    },
    {
      "cell_type": "code",
      "source": [
        "import os\n",
        "import matplotlib.pyplot as plt\n",
        "import matplotlib.image as mpimg\n",
        "\n",
        "# Function to display images\n",
        "def display_images(folder_path, num_images=3):\n",
        "    image_files = os.listdir(folder_path)[:num_images]\n",
        "    fig, axes = plt.subplots(1, num_images, figsize=(15, 5))\n",
        "\n",
        "    for ax, image_file in zip(axes, image_files):\n",
        "        image_path = os.path.join(folder_path, image_file)\n",
        "        img = mpimg.imread(image_path)\n",
        "        ax.imshow(img)\n",
        "        ax.axis('off')\n",
        "    plt.show()\n",
        "\n",
        "# Displaying images from each category\n",
        "print(\"Images from CMFD (Correctly Masked Face Dataset):\")\n",
        "# display_images(f\"{extracted_folder_path}/Classes/CMFD\")\n",
        "\n",
        "print(\"Images from IMFD (Incorrectly Masked Face Dataset):\")\n",
        "# display_images(f\"{extracted_folder_path}/Classes/IMFD\")"
      ],
      "metadata": {
        "id": "h9M3KPNEteX9",
        "colab": {
          "base_uri": "https://localhost:8080/"
        },
        "outputId": "2d519f77-e120-4ab0-ea1b-3f9fa084a494"
      },
      "execution_count": 11,
      "outputs": [
        {
          "output_type": "stream",
          "name": "stdout",
          "text": [
            "Images from CMFD (Correctly Masked Face Dataset):\n",
            "Images from IMFD (Incorrectly Masked Face Dataset):\n"
          ]
        }
      ]
    },
    {
      "cell_type": "markdown",
      "source": [
        "#**DATA PRE PROCESSING**"
      ],
      "metadata": {
        "id": "XmgVjY22XtQq"
      }
    },
    {
      "cell_type": "code",
      "source": [
        "from tensorflow.keras.preprocessing.image import ImageDataGenerator\n",
        "from sklearn.model_selection import train_test_split\n",
        "import numpy as np\n",
        "\n",
        "# Parameters for preprocessing\n",
        "image_size = (64, 64)  # Standard size for the images\n",
        "batch_size = 16        # Batch size for processing\n",
        "\n",
        "# Setting up the ImageDataGenerator for preprocessing\n",
        "datagen = ImageDataGenerator(\n",
        "    rescale=1./255,       # Normalizing the pixel values\n",
        "    validation_split=0.2  # Splitting 20% data for validation\n",
        ")\n",
        "\n",
        "# Preparing the training and validation generators\n",
        "train_generator = datagen.flow_from_directory(\n",
        "    directory=f\"{extracted_folder_path}/Classes\",\n",
        "    target_size=image_size,\n",
        "    batch_size=batch_size,\n",
        "    class_mode='binary',   # Since we have two classes\n",
        "    subset='training'      # Training data\n",
        ")\n",
        "\n",
        "validation_generator = datagen.flow_from_directory(\n",
        "    directory=f\"{extracted_folder_path}/Classes\",\n",
        "    target_size=image_size,\n",
        "    batch_size=batch_size,\n",
        "    class_mode='binary',   # Since we have two classes\n",
        "    subset='validation'    # Validation data\n",
        ")\n",
        "\n",
        "# Checking the class indices\n",
        "class_indices = train_generator.class_indices\n",
        "class_indices\n"
      ],
      "metadata": {
        "colab": {
          "base_uri": "https://localhost:8080/"
        },
        "id": "-kd22HzzXJpY",
        "outputId": "32e832ea-600c-4627-8061-8ccdc10bdb01"
      },
      "execution_count": 20,
      "outputs": [
        {
          "output_type": "stream",
          "name": "stdout",
          "text": [
            "Found 1503 images belonging to 2 classes.\n",
            "Found 375 images belonging to 2 classes.\n"
          ]
        },
        {
          "output_type": "execute_result",
          "data": {
            "text/plain": [
              "{'CMFD': 0, 'IMFD': 1}"
            ]
          },
          "metadata": {},
          "execution_count": 20
        }
      ]
    },
    {
      "cell_type": "markdown",
      "source": [
        "#**MODEL ARCHITECTURE**"
      ],
      "metadata": {
        "id": "ki_EyBsvZJYk"
      }
    },
    {
      "cell_type": "markdown",
      "source": [
        "##**Creating a Model(CNN)**"
      ],
      "metadata": {
        "id": "T_-avTf4ZOdb"
      }
    },
    {
      "cell_type": "code",
      "source": [
        "from tensorflow.keras.models import Sequential\n",
        "from tensorflow.keras.layers import Conv2D, MaxPooling2D, Flatten, Dense, Dropout\n",
        "\n",
        "model = Sequential([\n",
        "    Conv2D(32, (3, 3), activation='relu', input_shape=(64, 64, 3)),\n",
        "    MaxPooling2D(2, 2),\n",
        "    Conv2D(64, (3, 3), activation='relu'),\n",
        "    MaxPooling2D(2, 2),\n",
        "    Flatten(),\n",
        "    Dense(64, activation='relu'),\n",
        "    Dropout(0.5),\n",
        "    Dense(1, activation='sigmoid')  # Binary classification\n",
        "])\n"
      ],
      "metadata": {
        "id": "eMAaw87YYFcQ"
      },
      "execution_count": 21,
      "outputs": []
    },
    {
      "cell_type": "markdown",
      "source": [
        "##**Compile & Train the Model**"
      ],
      "metadata": {
        "id": "YNf6h6qDZiy0"
      }
    },
    {
      "cell_type": "code",
      "source": [
        "model.compile(optimizer='adam', loss='binary_crossentropy', metrics=['accuracy'])\n",
        "\n",
        "history = model.fit(\n",
        "    train_generator,\n",
        "    steps_per_epoch=train_generator.samples // batch_size,\n",
        "    validation_data=validation_generator,\n",
        "    validation_steps=validation_generator.samples // batch_size,\n",
        "    epochs=2 # Adjust as necessary\n",
        ")"
      ],
      "metadata": {
        "colab": {
          "base_uri": "https://localhost:8080/"
        },
        "id": "tDp4_QkPZaww",
        "outputId": "7c8e47f2-17d3-4868-c620-ff8d6d057a7f"
      },
      "execution_count": 22,
      "outputs": [
        {
          "output_type": "stream",
          "name": "stdout",
          "text": [
            "Epoch 1/2\n",
            "93/93 [==============================] - 36s 375ms/step - loss: 0.3552 - accuracy: 0.8393 - val_loss: 0.0876 - val_accuracy: 0.9701\n",
            "Epoch 2/2\n",
            "93/93 [==============================] - 40s 435ms/step - loss: 0.0927 - accuracy: 0.9684 - val_loss: 0.0571 - val_accuracy: 0.9837\n"
          ]
        }
      ]
    },
    {
      "cell_type": "markdown",
      "source": [
        "#**Model Testing**"
      ],
      "metadata": {
        "id": "TnR0ExP0ebNX"
      }
    },
    {
      "cell_type": "code",
      "source": [
        "import os\n",
        "from tensorflow.keras.preprocessing.image import load_img, img_to_array\n",
        "import numpy as np\n",
        "\n",
        "# Path to your test folder\n",
        "test_folder_path = f\"{extracted_folder_path}/Test_Classes\"\n",
        "\n",
        "# Get all image paths from the test folder\n",
        "test_images = [os.path.join(test_folder_path, file) for file in os.listdir(test_folder_path) if file.endswith('.jpg')]\n",
        "\n",
        "# Function to preprocess and predict for a single image\n",
        "def predict_image(image_path, model):\n",
        "    # Load and preprocess the image\n",
        "    img = load_img(image_path, target_size=(64, 64))\n",
        "    img_array = img_to_array(img)\n",
        "    img_array = img_array / 255.0  # Normalize\n",
        "    img_array = np.expand_dims(img_array, axis=0)  # Add batch dimension\n",
        "\n",
        "    # Predict\n",
        "    prediction = model.predict(img_array)\n",
        "    return prediction\n",
        "\n",
        "# Predict each test image\n",
        "for image_path in test_images:\n",
        "    prediction = predict_image(image_path, model)\n",
        "    class_prediction = 'CMFD' if prediction[0][0] < 0.5 else 'IMFD'\n",
        "    print(f\"Image: {os.path.basename(image_path)}, Prediction: {class_prediction}\")\n"
      ],
      "metadata": {
        "colab": {
          "base_uri": "https://localhost:8080/"
        },
        "id": "cPfAIeq1ZnX_",
        "outputId": "fc7dc2f0-92ed-426b-93ef-1b2ef1d9d47c"
      },
      "execution_count": 26,
      "outputs": [
        {
          "output_type": "stream",
          "name": "stdout",
          "text": [
            "1/1 [==============================] - 0s 115ms/step\n",
            "Image: 37002_Mask.jpg, Prediction: CMFD\n",
            "1/1 [==============================] - 0s 29ms/step\n",
            "Image: 37003_Mask.jpg, Prediction: CMFD\n",
            "1/1 [==============================] - 0s 28ms/step\n",
            "Image: 37001_Mask.jpg, Prediction: CMFD\n"
          ]
        }
      ]
    },
    {
      "cell_type": "code",
      "source": [],
      "metadata": {
        "id": "bBn8T8Yuewrw"
      },
      "execution_count": null,
      "outputs": []
    }
  ]
}